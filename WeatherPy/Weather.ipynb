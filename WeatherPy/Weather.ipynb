{
 "cells": [
  {
   "cell_type": "code",
   "execution_count": 4,
   "metadata": {},
   "outputs": [
    {
     "ename": "ImportError",
     "evalue": "cannot import name 'weather_api_key' from 'config' (C:\\Users\\Shirley\\Desktop\\Homework_BC_SJL\\06-Homework_python_api\\python-api-challenge\\WeatherPy\\config.py)",
     "output_type": "error",
     "traceback": [
      "\u001b[1;31m---------------------------------------------------------------------------\u001b[0m",
      "\u001b[1;31mImportError\u001b[0m                               Traceback (most recent call last)",
      "\u001b[1;32m<ipython-input-4-9ec603de7080>\u001b[0m in \u001b[0;36m<module>\u001b[1;34m\u001b[0m\n\u001b[0;32m      8\u001b[0m \u001b[1;33m\u001b[0m\u001b[0m\n\u001b[0;32m      9\u001b[0m \u001b[1;31m# Import API key\u001b[0m\u001b[1;33m\u001b[0m\u001b[1;33m\u001b[0m\u001b[1;33m\u001b[0m\u001b[0m\n\u001b[1;32m---> 10\u001b[1;33m \u001b[1;32mfrom\u001b[0m \u001b[0mconfig\u001b[0m \u001b[1;32mimport\u001b[0m \u001b[0mweather_api_key\u001b[0m\u001b[1;33m\u001b[0m\u001b[1;33m\u001b[0m\u001b[0m\n\u001b[0m\u001b[0;32m     11\u001b[0m \u001b[1;33m\u001b[0m\u001b[0m\n\u001b[0;32m     12\u001b[0m \u001b[1;31m# Incorporated citipy to determine city based on latitude and longitude\u001b[0m\u001b[1;33m\u001b[0m\u001b[1;33m\u001b[0m\u001b[1;33m\u001b[0m\u001b[0m\n",
      "\u001b[1;31mImportError\u001b[0m: cannot import name 'weather_api_key' from 'config' (C:\\Users\\Shirley\\Desktop\\Homework_BC_SJL\\06-Homework_python_api\\python-api-challenge\\WeatherPy\\config.py)"
     ]
    }
   ],
   "source": [
    "# Dependencies and Setup\n",
    "import matplotlib.pyplot as plt\n",
    "import pandas as pd\n",
    "import numpy as np\n",
    "import requests\n",
    "import time\n",
    "from scipy.stats import linregress\n",
    "\n",
    "# Import API key\n",
    "from config import weather_api_key\n",
    "\n",
    "# Incorporated citipy to determine city based on latitude and longitude\n",
    "from citipy import citipy\n",
    "\n",
    "# Output File (CSV)\n",
    "output_data_file = \"../output_data/cities.csv\"\n",
    "\n",
    "# Range of latitudes and longitudes\n",
    "lat_range = (-90, 90)\n",
    "lng_range = (-180, 180)"
   ]
  },
  {
   "cell_type": "code",
   "execution_count": null,
   "metadata": {},
   "outputs": [],
   "source": [
    "# List for holding lat_lngs and cities\n",
    "lat_lngs = []\n",
    "cities = []\n",
    "\n",
    "# Create a set of random lat and lng combinations\n",
    "lats = np.random.uniform(lat_range[0], lat_range[1], size=1500)\n",
    "lngs = np.random.uniform(lng_range[0], lng_range[1], size=1500)\n",
    "lat_lngs = zip(lats, lngs)\n",
    "\n",
    "# Identify nearest city for each lat, lng combination\n",
    "for lat_lng in lat_lngs:\n",
    "    city = citipy.nearest_city(lat_lng[0], lat_lng[1]).city_name\n",
    "    \n",
    "    # If the city is unique, then add it to a our cities list\n",
    "    if city not in cities:\n",
    "        cities.append(city)\n",
    "\n",
    "# Print the city count to confirm sufficient count\n",
    "len(cities)\n",
    "cities"
   ]
  },
  {
   "cell_type": "code",
   "execution_count": 7,
   "metadata": {},
   "outputs": [],
   "source": [
    "# Save config information\n",
    "url = \"http://api.openweathermap.org/data/2.5/weather?\"\n",
    "city = \"paris\"\n",
    "\n",
    "# Build query URL\n",
    "query_url = url + \"appid=\" + weather_api_key + \"&q=\" + city"
   ]
  },
  {
   "cell_type": "code",
   "execution_count": 8,
   "metadata": {},
   "outputs": [
    {
     "name": "stdout",
     "output_type": "stream",
     "text": [
      "The weather API responded with: {'coord': {'lon': 2.35, 'lat': 48.85}, 'weather': [{'id': 804, 'main': 'Clouds', 'description': 'overcast clouds', 'icon': '04n'}], 'base': 'stations', 'main': {'temp': 282.78, 'feels_like': 278.67, 'temp_min': 282.15, 'temp_max': 283.15, 'pressure': 1020, 'humidity': 70}, 'visibility': 10000, 'wind': {'speed': 4.1, 'deg': 20}, 'clouds': {'all': 90}, 'dt': 1602796277, 'sys': {'type': 1, 'id': 6550, 'country': 'FR', 'sunrise': 1602742272, 'sunset': 1602781264}, 'timezone': 7200, 'id': 2988507, 'name': 'Paris', 'cod': 200}.\n"
     ]
    }
   ],
   "source": [
    "# Get weather data\n",
    "weather_response = requests.get(query_url)\n",
    "weather_json = weather_response.json()\n",
    "\n",
    "# Get the temperature from the response\n",
    "print(f\"The weather API responded with: {weather_json}.\")"
   ]
  },
  {
   "cell_type": "code",
   "execution_count": 9,
   "metadata": {},
   "outputs": [
    {
     "name": "stdout",
     "output_type": "stream",
     "text": [
      "The temperature in paris is 9.63C or 49.33F.\n"
     ]
    }
   ],
   "source": [
    "# use list of units\n",
    "units = [\"metric\", \"imperial\"]\n",
    "\n",
    "# set up list to hold two different temperatures\n",
    "temperatures = []\n",
    "\n",
    "# loop throught the list of units and append them to temperatures list\n",
    "for unit in units:\n",
    "    # Build query URL based on current element in units\n",
    "    query_url = url + \"appid=\" + OWM_api_key + \"&q=\" + city + \"&units=\" + unit\n",
    "\n",
    "    # Get weather data\n",
    "    weather_response = requests.get(query_url)\n",
    "    weather_json = weather_response.json()\n",
    "\n",
    "    # Get temperature from JSON response\n",
    "    temperature = weather_json[\"main\"][\"temp\"]\n",
    "\n",
    "    temperatures.append(temperature)\n",
    "\n",
    "# Report temperatures by accessing each element in the list\n",
    "print(\n",
    "    f\"The temperature in {city} is {temperatures[0]}C or {temperatures[1]}F.\")"
   ]
  },
  {
   "cell_type": "code",
   "execution_count": 5,
   "metadata": {},
   "outputs": [
    {
     "name": "stdout",
     "output_type": "stream",
     "text": [
      "city is ['Paris', 'London', 'Oslo', 'Beijing', 'Mumbai', 'Manila', 'New York', 'Seattle', 'Dallas', 'Taipei', 'Rio De janeiro', 'concepcion']\n",
      "city is ['Paris', 'London', 'Oslo', 'Beijing', 'Mumbai', 'Manila', 'New York', 'Seattle', 'Dallas', 'Taipei', 'Rio De janeiro', 'concepcion']\n",
      "city is ['Paris', 'London', 'Oslo', 'Beijing', 'Mumbai', 'Manila', 'New York', 'Seattle', 'Dallas', 'Taipei', 'Rio De janeiro', 'concepcion']\n",
      "city is ['Paris', 'London', 'Oslo', 'Beijing', 'Mumbai', 'Manila', 'New York', 'Seattle', 'Dallas', 'Taipei', 'Rio De janeiro', 'concepcion']\n",
      "city is ['Paris', 'London', 'Oslo', 'Beijing', 'Mumbai', 'Manila', 'New York', 'Seattle', 'Dallas', 'Taipei', 'Rio De janeiro', 'concepcion']\n",
      "city is ['Paris', 'London', 'Oslo', 'Beijing', 'Mumbai', 'Manila', 'New York', 'Seattle', 'Dallas', 'Taipei', 'Rio De janeiro', 'concepcion']\n",
      "city is ['Paris', 'London', 'Oslo', 'Beijing', 'Mumbai', 'Manila', 'New York', 'Seattle', 'Dallas', 'Taipei', 'Rio De janeiro', 'concepcion']\n",
      "city is ['Paris', 'London', 'Oslo', 'Beijing', 'Mumbai', 'Manila', 'New York', 'Seattle', 'Dallas', 'Taipei', 'Rio De janeiro', 'concepcion']\n",
      "city is ['Paris', 'London', 'Oslo', 'Beijing', 'Mumbai', 'Manila', 'New York', 'Seattle', 'Dallas', 'Taipei', 'Rio De janeiro', 'concepcion']\n",
      "city is ['Paris', 'London', 'Oslo', 'Beijing', 'Mumbai', 'Manila', 'New York', 'Seattle', 'Dallas', 'Taipei', 'Rio De janeiro', 'concepcion']\n",
      "city is ['Paris', 'London', 'Oslo', 'Beijing', 'Mumbai', 'Manila', 'New York', 'Seattle', 'Dallas', 'Taipei', 'Rio De janeiro', 'concepcion']\n",
      "city is ['Paris', 'London', 'Oslo', 'Beijing', 'Mumbai', 'Manila', 'New York', 'Seattle', 'Dallas', 'Taipei', 'Rio De janeiro', 'concepcion']\n",
      "The latitude information received is: [38.83, 38.83, 38.83, 38.83, 38.83, 38.83, 38.83, 38.83, 38.83, 38.83, 38.83, 38.83]\n",
      "The temperature information received is: [296.35, 296.35, 296.35, 296.35, 296.37, 296.35, 296.35, 296.37, 296.35, 296.35, 296.35, 296.35]\n"
     ]
    }
   ],
   "source": [
    "cities = [\"Paris\", \"London\", \"Oslo\", \"Beijing\", \"Mumbai\", \"Manila\", \"New York\", \"Seattle\", \"Dallas\", \"Taipei\", \"Rio De janeiro\",\"concepcion\"]\n",
    "\n",
    "# set up lists to hold reponse info\n",
    "lat = []\n",
    "temp = []\n",
    "\n",
    "# Loop through the list of cities and perform a request for data on each\n",
    "for city in cities:\n",
    "    response = requests.get(query_url + city).json()\n",
    "    lat.append(response['coord']['lat'])\n",
    "    temp.append(response['main']['temp'])\n",
    "\n",
    "print(f\"The latitude information received is: {lat}\")\n",
    "print(f\"The temperature information received is: {temp}\")"
   ]
  },
  {
   "cell_type": "code",
   "execution_count": 6,
   "metadata": {},
   "outputs": [],
   "source": [
    "# Looking up with coordinates\n",
    "# >>> from citipy import citipy\n",
    "# >>> city = citipy.nearest_city(22.99, 120.21)\n",
    "# >>> city\n",
    "# <citipy.City instance at 0x1069b6518>\n",
    "# >>>\n",
    "# >>> city.city_name     \n",
    "# 'clinton, nj'\n",
    "# >>>\n",
    "# >>> city.country_code\n",
    "# 'us'                  "
   ]
  }
 ],
 "metadata": {
  "kernelspec": {
   "display_name": "Python 3",
   "language": "python",
   "name": "python3"
  },
  "language_info": {
   "codemirror_mode": {
    "name": "ipython",
    "version": 3
   },
   "file_extension": ".py",
   "mimetype": "text/x-python",
   "name": "python",
   "nbconvert_exporter": "python",
   "pygments_lexer": "ipython3",
   "version": "3.8.3"
  }
 },
 "nbformat": 4,
 "nbformat_minor": 4
}
